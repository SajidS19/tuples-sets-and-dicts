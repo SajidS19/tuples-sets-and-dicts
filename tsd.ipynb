{
 "cells": [
  {
   "cell_type": "code",
   "execution_count": 1,
   "id": "99514106",
   "metadata": {},
   "outputs": [],
   "source": [
    "'''Q1. What are the characteristics of the tuples? Is tuple immutable?\n",
    "\n",
    "Tuples are ordered collections of elements in Python, and they have the following characteristics:\n",
    "\n",
    "Ordered: Tuples maintain the order of elements, meaning the elements are stored in a specific sequence.\n",
    "Immutable: Tuples are immutable, which means once you create a tuple, you cannot change its contents (add, remove, or modify elements).\n",
    "Heterogeneous: Tuples can store elements of different data types (e.g., integers, strings, floats) within the same tuple.\n",
    "Iterable: You can iterate through the elements of a tuple using loops.\n",
    "Yes, tuples are immutable, which means you cannot change their contents after creation.'''"
   ]
  },
  {
   "cell_type": "code",
   "execution_count": 2,
   "id": "6e01f896",
   "metadata": {},
   "outputs": [],
   "source": [
    "'''Q2. What are the two tuple methods in Python? Give an example of each method. Give a reason why tuples have only two in-built methods as compared to Lists.\n",
    "\n",
    "Tuples in Python have two built-in methods:\n",
    "\n",
    "count(): This method returns the number of times a specified element appears in the tuple.\n",
    "index(): This method returns the index (position) of the first occurrence of a specified element in the tuple.\n",
    "\n",
    "'''"
   ]
  },
  {
   "cell_type": "code",
   "execution_count": 1,
   "id": "bcd1f79e",
   "metadata": {},
   "outputs": [
    {
     "name": "stdout",
     "output_type": "stream",
     "text": [
      "[1, 2, 3, 4]\n"
     ]
    }
   ],
   "source": [
    "'''Q3. Which collection datatypes in Python do not allow duplicate items? Write a code using a set to remove duplicates from the given list.\n",
    "\n",
    "In Python, sets do not allow duplicate items. You can use a set to remove duplicates from a list using\n",
    "the set() constructor and then convert it back to a list if needed. Here's the code to remove duplicates from the given list:\n",
    "'''\n",
    "my_list = [1, 1, 1, 2, 1, 3, 1, 4, 2, 1, 2, 2, 2, 3, 2, 4, 3, 1, 3, 2, 3, 3, 3, 4, 4, 1, 4, 2, 4, 3, 4, 4]\n",
    "unique_list = list(set(my_list))\n",
    "print(unique_list)"
   ]
  },
  {
   "cell_type": "code",
   "execution_count": 2,
   "id": "aee652d5",
   "metadata": {},
   "outputs": [
    {
     "name": "stdout",
     "output_type": "stream",
     "text": [
      "{1, 2, 3, 4, 5}\n",
      "{1, 2, 3, 4, 5}\n"
     ]
    }
   ],
   "source": [
    "'''Q4. Explain the difference between the union() and update() methods for a set. Give an example of each method.\n",
    "\n",
    "union(): This method returns a new set that contains all the unique elements from both sets (the set on which the method is called and another set provided as an argument). It does not modify the original sets.\n",
    "update(): This method updates the set with elements from another iterable (e.g., another set, list, or tuple). It modifies the original set in place.'''\n",
    "set1 = {1, 2, 3}\n",
    "set2 = {3, 4, 5}\n",
    "union_set = set1.union(set2)\n",
    "print(union_set)  # Output: {1, 2, 3, 4, 5}\n",
    "\n",
    "set1 = {1, 2, 3}\n",
    "set2 = {3, 4, 5}\n",
    "set1.update(set2)\n",
    "print(set1)  # Output: {1, 2, 3, 4, 5}\n"
   ]
  },
  {
   "cell_type": "code",
   "execution_count": 4,
   "id": "f53662a4",
   "metadata": {},
   "outputs": [
    {
     "name": "stdout",
     "output_type": "stream",
     "text": [
      "{'name': 'John', 'age': 30, 'city': 'New York'}\n"
     ]
    }
   ],
   "source": [
    "'''Q5. What is a dictionary? Give an example. Also, state whether a dictionary is ordered or unordered.\n",
    "\n",
    "A dictionary in Python is an unordered collection of key-value pairs. Each key in the dictionary is unique and is used to access its associated value. Dictionaries are defined using curly braces {} and consist of key-value pairs separated by colons '''\n",
    "my_dict = {\n",
    "    \"name\": \"John\",\n",
    "    \"age\": 30,\n",
    "    \"city\": \"New York\"\n",
    "}\n",
    "print(my_dict)"
   ]
  },
  {
   "cell_type": "code",
   "execution_count": 5,
   "id": "717ab9c6",
   "metadata": {},
   "outputs": [
    {
     "name": "stdout",
     "output_type": "stream",
     "text": [
      "{'name': 'Alice', 'age': 20, 'grades': {'math': 95, 'history': 87, 'english': 91}}\n"
     ]
    }
   ],
   "source": [
    "'''Q6. Can we create a nested dictionary? If so, please give an example by creating a simple one-level nested dictionary.\n",
    "\n",
    "Yes, you can create nested dictionaries in Python. A nested dictionary is a dictionary where the values associated with keys can themselves be dictionaries. Here's an example of a one-level nested dictionary:'''\n",
    "student = {\n",
    "    \"name\": \"Alice\",\n",
    "    \"age\": 20,\n",
    "    \"grades\": {\n",
    "        \"math\": 95,\n",
    "        \"history\": 87,\n",
    "        \"english\": 91\n",
    "    }\n",
    "}\n",
    "print(student)"
   ]
  },
  {
   "cell_type": "code",
   "execution_count": 6,
   "id": "41e63b33",
   "metadata": {},
   "outputs": [
    {
     "name": "stdout",
     "output_type": "stream",
     "text": [
      "{'language': 'Python', 'course': 'Data Science Masters', 'topics': ['Python', 'Machine Learning', 'Deep Learning']}\n"
     ]
    }
   ],
   "source": [
    "'''Q7. Using setdefault() method, create a key named \"topics\" in the given dictionary and also add the value of the key as this list ['Python', 'Machine Learning', 'Deep Learning'].'''\n",
    "dict1 = {'language': 'Python', 'course': 'Data Science Masters'}\n",
    "dict1.setdefault('topics', ['Python', 'Machine Learning', 'Deep Learning'])\n",
    "print(dict1)\n"
   ]
  },
  {
   "cell_type": "code",
   "execution_count": 11,
   "id": "0e5b5ba1",
   "metadata": {},
   "outputs": [
    {
     "data": {
      "text/plain": [
       "dict_items([('Sport', 'Cricket'), ('Teams', ['India', 'Australia', 'England', 'South Africa', 'Sri Lanka', 'New Zealand'])])"
      ]
     },
     "execution_count": 11,
     "metadata": {},
     "output_type": "execute_result"
    }
   ],
   "source": [
    "'''\n",
    "Q8. What are the three view objects in dictionaries? Use the three in-built methods in Python to display these three view objects for the given dictionary.\n",
    "\n",
    "In Python, dictionaries have three view objects:\n",
    "\n",
    "dict.keys(): This method returns a view object that displays a list of all the keys in the dictionary.\n",
    "\n",
    "dict.values(): This method returns a view object that displays a list of all the values in the dictionary.\n",
    "\n",
    "dict.items(): This method returns a view object that displays a list of key-value pairs (tuples) in the dictionary.\n",
    "'''\n",
    "dict1 = {'Sport': 'Cricket', 'Teams': ['India', 'Australia', 'England', 'South Africa', 'Sri Lanka', 'New Zealand']}\n",
    "dict1.keys()\n",
    "dict1.values()\n",
    "dict1.items()\n",
    "# Display\n"
   ]
  },
  {
   "cell_type": "code",
   "execution_count": null,
   "id": "0baa7cbc",
   "metadata": {},
   "outputs": [],
   "source": []
  }
 ],
 "metadata": {
  "kernelspec": {
   "display_name": "Python 3 (ipykernel)",
   "language": "python",
   "name": "python3"
  },
  "language_info": {
   "codemirror_mode": {
    "name": "ipython",
    "version": 3
   },
   "file_extension": ".py",
   "mimetype": "text/x-python",
   "name": "python",
   "nbconvert_exporter": "python",
   "pygments_lexer": "ipython3",
   "version": "3.9.13"
  }
 },
 "nbformat": 4,
 "nbformat_minor": 5
}
